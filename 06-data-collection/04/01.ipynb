{
 "cells": [
  {
   "cell_type": "code",
   "execution_count": 2,
   "id": "a16852da-d6c9-4b9d-b68e-7f947a5ec933",
   "metadata": {},
   "outputs": [],
   "source": [
    "from pprint import pprint\n",
    "from lxml import html\n",
    "import requests\n",
    "from pymongo import MongoClient"
   ]
  },
  {
   "cell_type": "code",
   "execution_count": 3,
   "id": "3e327637-eae7-40fb-95c7-4d5dab39619a",
   "metadata": {},
   "outputs": [],
   "source": [
    "client = MongoClient('localhost', 27017)\n",
    "db = client['dc04']\n",
    "news_collection = db['news']"
   ]
  },
  {
   "cell_type": "code",
   "execution_count": 4,
   "id": "0dacc709-3872-4c44-9564-306676f397b6",
   "metadata": {},
   "outputs": [
    {
     "name": "stdout",
     "output_type": "stream",
     "text": [
      "{'source': 'lenta.ru', 'title': ['Ведущий «Битвы экстрасенсов» рассказал о\\xa0негативном опыте работы на\\xa0телевидении'], 'href': 'https://lenta.ru/news/2021/10/07/ekstrasensi/', 'published_at': ' 20:41,  7 октября 2021'}\n",
      "{'source': 'lenta.ru', 'title': ['Студентка прикинулась богачкой и\\xa0бесплатно ела, пила и\\xa0спала в\\xa0роскошных местах'], 'href': 'https://lenta.ru/news/2021/10/07/socialite/', 'published_at': ' 20:36,  7 октября 2021'}\n",
      "{'source': 'lenta.ru', 'title': ['Россиянка пожаловалась на\\xa0сломанную молнию и\\xa0рассмешила пользователей сети\\xa0'], 'href': 'https://lenta.ruhttps://moslenta.ru/news/rossiyanka-pozhalovalas-na-slomannuyu-molniyu-i-rassmeshila-polzovatelei-seti-07-10-2021.htm/?utm_source=from_lenta', 'published_at': ' 20:35,  7 октября 2021'}\n",
      "{'source': 'lenta.ru', 'title': ['США предотвратили первый в\\xa0своей истории дефолт'], 'href': 'https://lenta.ru/news/2021/10/07/dolg/', 'published_at': ' 20:35,  7 октября 2021'}\n",
      "{'source': 'lenta.ru', 'title': ['Жених облил гостью на\\xa0свадьбе ради шутки и\\xa0потерял уважение родственников'], 'href': 'https://lenta.ru/news/2021/10/07/groomstuoid/', 'published_at': ' 20:32,  7 октября 2021'}\n",
      "{'source': 'lenta.ru', 'title': ['Футболист сборной России оценил запрет Карпина употреблять сахар'], 'href': 'https://lenta.ru/news/2021/10/07/saharokneok/', 'published_at': ' 20:31,  7 октября 2021'}\n",
      "{'source': 'lenta.ru', 'title': ['Белорусские военные поучаствуют в\\xa0учениях ОДКБ в\\xa0Таджикистане'], 'href': 'https://lenta.ru/news/2021/10/07/odkb_afgan/', 'published_at': ' 20:26,  7 октября 2021'}\n",
      "{'source': 'lenta.ru', 'title': ['Обвиняемая в\\xa0убийстве вожатой в\\xa0подмосковном детском лагере признала свою вину'], 'href': 'https://lenta.ru/news/2021/10/07/vojataya/', 'published_at': ' 20:25,  7 октября 2021'}\n",
      "{'source': 'lenta.ru', 'title': ['Названо «самое смертоносное» вооружение морской пехоты США'], 'href': 'https://lenta.ru/news/2021/10/07/5/', 'published_at': ' 20:21,  7 октября 2021'}\n",
      "{'source': 'lenta.ru', 'title': ['В Татарстане введут QR-коды для входа в\\xa0рестораны и\\xa0ТЦ'], 'href': 'https://lenta.ru/news/2021/10/07/tatarstan_qr/'}\n",
      "{'source': 'lenta.ru', 'title': ['В России выявили больше 27\\xa0тысяч новых случаев COVID-19\\xa0впервые с\\xa0декабря'], 'href': 'https://lenta.ru/news/2021/10/07/coronanew/'}\n",
      "{'source': 'lenta.ru', 'title': ['Основателю Grouр-IB предъявили обвинение в\\xa0госизмене'], 'href': 'https://lenta.ru/news/2021/10/07/obvinen/'}\n",
      "{'source': 'lenta.ru', 'title': ['Как технологии будущего изменят мир и\\xa0жизнь людей\\xa0'], 'href': 'https://lenta.ru/extlink/2021/10/04/newworld/'}\n",
      "{'source': 'lenta.ru', 'title': ['Установлена личность серийного маньяка Зодиака'], 'href': 'https://lenta.ru/news/2021/10/07/zodiac/'}\n",
      "{'source': 'lenta.ru', 'title': ['Видео со\\xa0школьным рэпом юного Моргенштерна назвали основой современной музыки'], 'href': 'https://lenta.ru/news/2021/10/07/morgen_pop2009/'}\n",
      "{'source': 'lenta.ru', 'title': ['Суд в\\xa0США распорядился принять от\\xa0Тинькова 448\\xa0миллионов долларов'], 'href': 'https://lenta.ru/news/2021/10/06/tinkov/'}\n"
     ]
    }
   ],
   "source": [
    "main_link = 'https://lenta.ru'\n",
    "response = requests.get(main_link)\n",
    "root = html.fromstring(response.text)\n",
    "news = root.xpath(\"//div[@class='item']\")\n",
    "for article in news:\n",
    "    article_data = {}\n",
    "    article_data['source'] = 'lenta.ru'\n",
    "    article_data['title'] = article.xpath('.//a/text()')\n",
    "    article_data['href'] = main_link + article.xpath('.//a/@href')[0]\n",
    "    datetime_arr = article.xpath('.//a/time/@datetime')\n",
    "    if(datetime_arr):\n",
    "        article_data['published_at'] = datetime_arr[0]\n",
    "               \n",
    "    print(article_data)\n",
    "    news_collection.insert_one(article_data)"
   ]
  },
  {
   "cell_type": "code",
   "execution_count": 6,
   "id": "46544aec-5dec-4e07-a8a9-5e283087a5d3",
   "metadata": {},
   "outputs": [
    {
     "data": {
      "text/plain": [
       "[{'_id': ObjectId('615f3356912c286c4e49c727'),\n",
       "  'source': 'lenta.ru',\n",
       "  'title': ['Ведущий «Битвы экстрасенсов» рассказал о\\xa0негативном опыте работы на\\xa0телевидении'],\n",
       "  'href': 'https://lenta.ru/news/2021/10/07/ekstrasensi/',\n",
       "  'published_at': ' 20:41,  7 октября 2021'},\n",
       " {'_id': ObjectId('615f3356912c286c4e49c728'),\n",
       "  'source': 'lenta.ru',\n",
       "  'title': ['Студентка прикинулась богачкой и\\xa0бесплатно ела, пила и\\xa0спала в\\xa0роскошных местах'],\n",
       "  'href': 'https://lenta.ru/news/2021/10/07/socialite/',\n",
       "  'published_at': ' 20:36,  7 октября 2021'},\n",
       " {'_id': ObjectId('615f3356912c286c4e49c729'),\n",
       "  'source': 'lenta.ru',\n",
       "  'title': ['Россиянка пожаловалась на\\xa0сломанную молнию и\\xa0рассмешила пользователей сети\\xa0'],\n",
       "  'href': 'https://lenta.ruhttps://moslenta.ru/news/rossiyanka-pozhalovalas-na-slomannuyu-molniyu-i-rassmeshila-polzovatelei-seti-07-10-2021.htm/?utm_source=from_lenta',\n",
       "  'published_at': ' 20:35,  7 октября 2021'},\n",
       " {'_id': ObjectId('615f3356912c286c4e49c72a'),\n",
       "  'source': 'lenta.ru',\n",
       "  'title': ['США предотвратили первый в\\xa0своей истории дефолт'],\n",
       "  'href': 'https://lenta.ru/news/2021/10/07/dolg/',\n",
       "  'published_at': ' 20:35,  7 октября 2021'},\n",
       " {'_id': ObjectId('615f3356912c286c4e49c72b'),\n",
       "  'source': 'lenta.ru',\n",
       "  'title': ['Жених облил гостью на\\xa0свадьбе ради шутки и\\xa0потерял уважение родственников'],\n",
       "  'href': 'https://lenta.ru/news/2021/10/07/groomstuoid/',\n",
       "  'published_at': ' 20:32,  7 октября 2021'},\n",
       " {'_id': ObjectId('615f3356912c286c4e49c72c'),\n",
       "  'source': 'lenta.ru',\n",
       "  'title': ['Футболист сборной России оценил запрет Карпина употреблять сахар'],\n",
       "  'href': 'https://lenta.ru/news/2021/10/07/saharokneok/',\n",
       "  'published_at': ' 20:31,  7 октября 2021'},\n",
       " {'_id': ObjectId('615f3356912c286c4e49c72d'),\n",
       "  'source': 'lenta.ru',\n",
       "  'title': ['Белорусские военные поучаствуют в\\xa0учениях ОДКБ в\\xa0Таджикистане'],\n",
       "  'href': 'https://lenta.ru/news/2021/10/07/odkb_afgan/',\n",
       "  'published_at': ' 20:26,  7 октября 2021'},\n",
       " {'_id': ObjectId('615f3356912c286c4e49c72e'),\n",
       "  'source': 'lenta.ru',\n",
       "  'title': ['Обвиняемая в\\xa0убийстве вожатой в\\xa0подмосковном детском лагере признала свою вину'],\n",
       "  'href': 'https://lenta.ru/news/2021/10/07/vojataya/',\n",
       "  'published_at': ' 20:25,  7 октября 2021'},\n",
       " {'_id': ObjectId('615f3356912c286c4e49c72f'),\n",
       "  'source': 'lenta.ru',\n",
       "  'title': ['Названо «самое смертоносное» вооружение морской пехоты США'],\n",
       "  'href': 'https://lenta.ru/news/2021/10/07/5/',\n",
       "  'published_at': ' 20:21,  7 октября 2021'},\n",
       " {'_id': ObjectId('615f3356912c286c4e49c730'),\n",
       "  'source': 'lenta.ru',\n",
       "  'title': ['В Татарстане введут QR-коды для входа в\\xa0рестораны и\\xa0ТЦ'],\n",
       "  'href': 'https://lenta.ru/news/2021/10/07/tatarstan_qr/'},\n",
       " {'_id': ObjectId('615f3356912c286c4e49c731'),\n",
       "  'source': 'lenta.ru',\n",
       "  'title': ['В России выявили больше 27\\xa0тысяч новых случаев COVID-19\\xa0впервые с\\xa0декабря'],\n",
       "  'href': 'https://lenta.ru/news/2021/10/07/coronanew/'},\n",
       " {'_id': ObjectId('615f3356912c286c4e49c732'),\n",
       "  'source': 'lenta.ru',\n",
       "  'title': ['Основателю Grouр-IB предъявили обвинение в\\xa0госизмене'],\n",
       "  'href': 'https://lenta.ru/news/2021/10/07/obvinen/'},\n",
       " {'_id': ObjectId('615f3356912c286c4e49c733'),\n",
       "  'source': 'lenta.ru',\n",
       "  'title': ['Как технологии будущего изменят мир и\\xa0жизнь людей\\xa0'],\n",
       "  'href': 'https://lenta.ru/extlink/2021/10/04/newworld/'},\n",
       " {'_id': ObjectId('615f3356912c286c4e49c734'),\n",
       "  'source': 'lenta.ru',\n",
       "  'title': ['Установлена личность серийного маньяка Зодиака'],\n",
       "  'href': 'https://lenta.ru/news/2021/10/07/zodiac/'},\n",
       " {'_id': ObjectId('615f3356912c286c4e49c735'),\n",
       "  'source': 'lenta.ru',\n",
       "  'title': ['Видео со\\xa0школьным рэпом юного Моргенштерна назвали основой современной музыки'],\n",
       "  'href': 'https://lenta.ru/news/2021/10/07/morgen_pop2009/'},\n",
       " {'_id': ObjectId('615f3356912c286c4e49c736'),\n",
       "  'source': 'lenta.ru',\n",
       "  'title': ['Суд в\\xa0США распорядился принять от\\xa0Тинькова 448\\xa0миллионов долларов'],\n",
       "  'href': 'https://lenta.ru/news/2021/10/06/tinkov/'}]"
      ]
     },
     "execution_count": 6,
     "metadata": {},
     "output_type": "execute_result"
    }
   ],
   "source": [
    "list(news_collection.find({}))"
   ]
  }
 ],
 "metadata": {
  "kernelspec": {
   "display_name": "Python 3 (ipykernel)",
   "language": "python",
   "name": "python3"
  },
  "language_info": {
   "codemirror_mode": {
    "name": "ipython",
    "version": 3
   },
   "file_extension": ".py",
   "mimetype": "text/x-python",
   "name": "python",
   "nbconvert_exporter": "python",
   "pygments_lexer": "ipython3",
   "version": "3.9.7"
  }
 },
 "nbformat": 4,
 "nbformat_minor": 5
}
