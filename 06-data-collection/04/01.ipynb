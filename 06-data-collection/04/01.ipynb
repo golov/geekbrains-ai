{
 "cells": [
  {
   "cell_type": "code",
   "execution_count": 1,
   "id": "a16852da-d6c9-4b9d-b68e-7f947a5ec933",
   "metadata": {},
   "outputs": [],
   "source": [
    "from pprint import pprint\n",
    "from lxml import html\n",
    "import requests\n",
    "import time"
   ]
  },
  {
   "cell_type": "code",
   "execution_count": 19,
   "id": "0dacc709-3872-4c44-9564-306676f397b6",
   "metadata": {},
   "outputs": [
    {
     "name": "stdout",
     "output_type": "stream",
     "text": [
      "{'source': 'lenta.ru', 'title': ['Глава МИД Узбекистана встретился с\\xa0правительством талибов в\\xa0Кабуле'], 'href': 'https://lenta.ru/news/2021/10/07/meeting_with_taliban/', 'published_at': ' 19:36,  7 октября 2021'}\n",
      "{'source': 'lenta.ru', 'title': ['Потерявший друзей и\\xa0деньги игроман нашел способ вернуться к\\xa0нормальной жизни'], 'href': 'https://lenta.ru/news/2021/10/07/gambler/', 'published_at': ' 19:35,  7 октября 2021'}\n",
      "{'source': 'lenta.ru', 'title': ['Курс евро упал'], 'href': 'https://lenta.ru/news/2021/10/07/euro/', 'published_at': ' 19:33,  7 октября 2021'}\n",
      "{'source': 'lenta.ru', 'title': ['Россия нарастит производство самых мощных в\\xa0мире двигателей для боевых самолетов'], 'href': 'https://lenta.ru/news/2021/10/07/nk32/', 'published_at': ' 19:32,  7 октября 2021'}\n",
      "{'source': 'lenta.ru', 'title': ['Москвичи ринулись оформлять один тип ипотеки'], 'href': 'https://lenta.ru/news/2021/10/07/ipo_msk/', 'published_at': ' 19:32,  7 октября 2021'}\n",
      "{'source': 'lenta.ru', 'title': ['Фанаты не\\xa0узнали Рене Зеллвегер на\\xa0фото папарацци из-за изменений во\\xa0внешности'], 'href': 'https://lenta.ru/news/2021/10/07/rene/', 'published_at': ' 19:24,  7 октября 2021'}\n",
      "{'source': 'lenta.ru', 'title': ['Школьный друг Путина рассказал о\\xa0детстве президента'], 'href': 'https://lenta.ru/news/2021/10/07/putin_shkola/', 'published_at': ' 19:24,  7 октября 2021'}\n",
      "{'source': 'lenta.ru', 'title': ['В Москве дагестанцы жестоко избили женщину за\\xa0долги сына\\xa0'], 'href': 'https://lenta.ruhttps://moslenta.ru/news/v-moskve-dagestancy-zhestoko-izbili-zhenshinu-za-dolgi-syna-07-10-2021.htm/?utm_source=from_lenta', 'published_at': ' 19:24,  7 октября 2021'}\n",
      "{'source': 'lenta.ru', 'title': ['Преемник Меркель намекнул на\\xa0отставку'], 'href': 'https://lenta.ru/news/2021/10/07/preemnik/', 'published_at': ' 19:21,  7 октября 2021'}\n",
      "{'source': 'lenta.ru', 'title': ['В России выявили больше 27\\xa0тысяч новых случаев COVID-19\\xa0впервые с\\xa0декабря'], 'href': 'https://lenta.ru/news/2021/10/07/coronanew/'}\n",
      "{'source': 'lenta.ru', 'title': ['Основателю Grouр-IB предъявили обвинение в\\xa0госизмене'], 'href': 'https://lenta.ru/news/2021/10/07/obvinen/'}\n",
      "{'source': 'lenta.ru', 'title': ['Как технологии будущего изменят мир и\\xa0жизнь людей\\xa0'], 'href': 'https://lenta.ru/extlink/2021/10/04/newworld/'}\n",
      "{'source': 'lenta.ru', 'title': ['Установлена личность серийного маньяка Зодиака'], 'href': 'https://lenta.ru/news/2021/10/07/zodiac/'}\n",
      "{'source': 'lenta.ru', 'title': ['Сингапурский профессор предрек появление нового коронавируса SARS-CoV-3'], 'href': 'https://lenta.ru/news/2021/10/07/singapur/'}\n",
      "{'source': 'lenta.ru', 'title': ['Путин сделал заявления по\\xa0газу на\\xa0совещании по\\xa0вопросам энергетики'], 'href': 'https://lenta.ru/news/2021/10/07/gaz/'}\n",
      "{'source': 'lenta.ru', 'title': ['Видео со\\xa0школьным рэпом юного Моргенштерна назвали основой современной музыки'], 'href': 'https://lenta.ru/news/2021/10/07/morgen_pop2009/'}\n",
      "{'source': 'lenta.ru', 'title': ['«Солдатские матери» объяснили прекращение работы со\\xa0срочниками из-за приказа ФСБ'], 'href': 'https://lenta.ru/news/2021/10/07/soldat_materi/'}\n",
      "{'source': 'lenta.ru', 'title': ['Суд в\\xa0США распорядился принять от\\xa0Тинькова 448\\xa0миллионов долларов'], 'href': 'https://lenta.ru/news/2021/10/06/tinkov/'}\n"
     ]
    }
   ],
   "source": [
    "main_link = 'https://lenta.ru'\n",
    "response = requests.get(main_link)\n",
    "root = html.fromstring(response.text)\n",
    "items = root.xpath(\"//div[@class='item']\")\n",
    "for item in items:\n",
    "    item_data = {}\n",
    "    item_data['source'] = 'lenta.ru'\n",
    "    item_data['title'] = item.xpath('.//a/text()')\n",
    "    item_data['href'] = main_link + item.xpath('.//a/@href')[0]\n",
    "    datetime_arr = item.xpath('.//a/time/@datetime')\n",
    "    if(datetime_arr):\n",
    "        item_data['published_at'] = datetime_arr[0]\n",
    "                                 \n",
    "    print(item_data)"
   ]
  },
  {
   "cell_type": "code",
   "execution_count": null,
   "id": "cbd88187-8123-42be-910e-1bf86b9bc1e0",
   "metadata": {},
   "outputs": [],
   "source": []
  }
 ],
 "metadata": {
  "kernelspec": {
   "display_name": "Python 3 (ipykernel)",
   "language": "python",
   "name": "python3"
  },
  "language_info": {
   "codemirror_mode": {
    "name": "ipython",
    "version": 3
   },
   "file_extension": ".py",
   "mimetype": "text/x-python",
   "name": "python",
   "nbconvert_exporter": "python",
   "pygments_lexer": "ipython3",
   "version": "3.9.1"
  }
 },
 "nbformat": 4,
 "nbformat_minor": 5
}
