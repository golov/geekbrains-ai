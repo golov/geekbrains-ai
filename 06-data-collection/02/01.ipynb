{
 "cells": [
  {
   "cell_type": "code",
   "execution_count": 1,
   "id": "979787b1-3458-4acf-bdee-2a375f8150f2",
   "metadata": {},
   "outputs": [],
   "source": [
    "from bs4 import BeautifulSoup as bs\n",
    "import requests\n",
    "import re\n",
    "from pprint import pprint"
   ]
  },
  {
   "cell_type": "code",
   "execution_count": 12,
   "id": "82166a9b-93f0-44fe-8a93-ab80ad5402e3",
   "metadata": {},
   "outputs": [],
   "source": [
    "def parse_position(position):\n",
    "    scraped_position = { 'name': '', 'url': '', 'from_salary': None, 'up_to_salary': None, 'currency': '', 'from_site': url}\n",
    "    \n",
    "    uri = position.select('a[class*=\"f-test-link-\"]')[0]['href']\n",
    "    scraped_position['url'] = url + uri\n",
    "    scraped_position['name'] = position.select('a[class*=\"f-test-link-\"]')[0].text\n",
    "    \n",
    "    salary_string = position.find('span', { 'class': 'f-test-text-company-item-salary' }).contents[0].text.replace(u'\\xa0', u' ')\n",
    "    \n",
    "    salary_array = salary_string.split(' ')\n",
    "    scraped_position['currency'] = salary_array.pop(len(salary_array) - 1)\n",
    "    \n",
    "    if salary_array[0] == 'от':\n",
    "        salary_array.pop(0)\n",
    "        from_salary_str = ''.join(salary_array)\n",
    "        pprint(from_salary_str)\n",
    "        scraped_position['from_salary'] = int(from_salary_str)\n",
    "    elif salary_array[0] == 'до':\n",
    "        salary_array.pop(0)\n",
    "        from_salary_str = ''.join(salary_array)\n",
    "        pprint(from_salary_str)\n",
    "        scraped_position['up_to_salary'] = int(from_salary_str)\n",
    "    else:\n",
    "        print('range')\n",
    "        \n",
    "    scraped_positions.append(scraped_position)"
   ]
  },
  {
   "cell_type": "code",
   "execution_count": 3,
   "id": "a23d28a9-8511-4428-b6e8-fc92024f6eb0",
   "metadata": {},
   "outputs": [
    {
     "name": "stdout",
     "output_type": "stream",
     "text": [
      "<Response [200]>\n"
     ]
    }
   ],
   "source": [
    "url = 'https://www.superjob.ru/vacancy/search/'\n",
    "params = {\n",
    "    'keywords': 'python',\n",
    "    'payment_defined': 1\n",
    "}\n",
    "\n",
    "response = requests.get(url, params=params)\n",
    "\n",
    "\n",
    "pprint(response)"
   ]
  },
  {
   "cell_type": "code",
   "execution_count": 4,
   "id": "03f1c5d9-16eb-4a61-94a3-f36032cf10b3",
   "metadata": {},
   "outputs": [],
   "source": [
    "soup = bs(response.text, 'html.parser')"
   ]
  },
  {
   "cell_type": "code",
   "execution_count": 5,
   "id": "daf34017-8098-4268-bdb3-afaac3dbf79b",
   "metadata": {},
   "outputs": [],
   "source": [
    "scraped_positions = []"
   ]
  },
  {
   "cell_type": "code",
   "execution_count": 13,
   "id": "216439c6-0773-4b4f-a6e1-ace4e9859e03",
   "metadata": {},
   "outputs": [
    {
     "name": "stdout",
     "output_type": "stream",
     "text": [
      "range\n",
      "'180000'\n",
      "range\n",
      "'180000'\n",
      "'150000'\n",
      "'350000'\n",
      "'100000'\n",
      "range\n",
      "'230000'\n",
      "'200000'\n",
      "range\n",
      "range\n",
      "'105000'\n",
      "'90000'\n",
      "'130000'\n",
      "'120000'\n",
      "'50000'\n",
      "'48000'\n",
      "'120000'\n",
      "'15000'\n"
     ]
    }
   ],
   "source": [
    "positions = soup.find_all('div', { 'class': 'f-test-vacancy-item' })\n",
    "\n",
    "for position in positions:\n",
    "    parse_position(position)"
   ]
  },
  {
   "cell_type": "code",
   "execution_count": 14,
   "id": "e52ffd82-fd41-418f-81c3-b0f1c3fce31b",
   "metadata": {},
   "outputs": [
    {
     "data": {
      "text/plain": [
       "[{'name': 'Senior Python Backend Developer / WEB-разработчик',\n",
       "  'url': 'https://www.superjob.ru/vacancy/search//vakansii/senior-python-backend-developer-39169043.html',\n",
       "  'from_salary': None,\n",
       "  'up_to_salary': None,\n",
       "  'currency': 'руб.',\n",
       "  'from_site': 'https://www.superjob.ru/vacancy/search/'},\n",
       " {'name': 'Python developer',\n",
       "  'url': 'https://www.superjob.ru/vacancy/search//vakansii/python-developer-39082253.html',\n",
       "  'from_salary': 180000,\n",
       "  'up_to_salary': None,\n",
       "  'currency': 'руб.',\n",
       "  'from_site': 'https://www.superjob.ru/vacancy/search/'},\n",
       " {'name': 'Программист-инженер С++, Python',\n",
       "  'url': 'https://www.superjob.ru/vacancy/search//vakansii/programmist-inzhener-s-38845708.html',\n",
       "  'from_salary': None,\n",
       "  'up_to_salary': None,\n",
       "  'currency': 'руб.',\n",
       "  'from_site': 'https://www.superjob.ru/vacancy/search/'},\n",
       " {'name': 'Python разработчик (middle +)',\n",
       "  'url': 'https://www.superjob.ru/vacancy/search//vakansii/python-razrabotchik-39302335.html',\n",
       "  'from_salary': None,\n",
       "  'up_to_salary': 180000,\n",
       "  'currency': 'руб.',\n",
       "  'from_site': 'https://www.superjob.ru/vacancy/search/'},\n",
       " {'name': 'Full-stack Developer (Python, Javascript)',\n",
       "  'url': 'https://www.superjob.ru/vacancy/search//vakansii/full-stack-developer-39112502.html',\n",
       "  'from_salary': 150000,\n",
       "  'up_to_salary': None,\n",
       "  'currency': 'руб.',\n",
       "  'from_site': 'https://www.superjob.ru/vacancy/search/'},\n",
       " {'name': 'Senior Python разработчик',\n",
       "  'url': 'https://www.superjob.ru/vacancy/search//vakansii/senior-python-razrabotchik-39177573.html',\n",
       "  'from_salary': None,\n",
       "  'up_to_salary': 350000,\n",
       "  'currency': 'руб.',\n",
       "  'from_site': 'https://www.superjob.ru/vacancy/search/'},\n",
       " {'name': 'Backend Developer Python',\n",
       "  'url': 'https://www.superjob.ru/vacancy/search//vakansii/backend-developer-python-39174867.html',\n",
       "  'from_salary': None,\n",
       "  'up_to_salary': 100000,\n",
       "  'currency': 'руб.',\n",
       "  'from_site': 'https://www.superjob.ru/vacancy/search/'},\n",
       " {'name': 'Разработчик Python',\n",
       "  'url': 'https://www.superjob.ru/vacancy/search//vakansii/razrabotchik-python-39276300.html',\n",
       "  'from_salary': None,\n",
       "  'up_to_salary': None,\n",
       "  'currency': 'руб.',\n",
       "  'from_site': 'https://www.superjob.ru/vacancy/search/'},\n",
       " {'name': 'Python developer (Backend) в международную IT-компанию',\n",
       "  'url': 'https://www.superjob.ru/vacancy/search//vakansii/python-developer-38909638.html',\n",
       "  'from_salary': None,\n",
       "  'up_to_salary': 230000,\n",
       "  'currency': 'руб.',\n",
       "  'from_site': 'https://www.superjob.ru/vacancy/search/'},\n",
       " {'name': 'Python Django fullstack разработчик',\n",
       "  'url': 'https://www.superjob.ru/vacancy/search//vakansii/python-django-fullstack-razrabotchik-39274896.html',\n",
       "  'from_salary': None,\n",
       "  'up_to_salary': 200000,\n",
       "  'currency': 'руб.',\n",
       "  'from_site': 'https://www.superjob.ru/vacancy/search/'},\n",
       " {'name': 'Старший системный интегратор / Senior Разработчик Python',\n",
       "  'url': 'https://www.superjob.ru/vacancy/search//vakansii/starshij-sistemnyj-integrator-39272138.html',\n",
       "  'from_salary': None,\n",
       "  'up_to_salary': None,\n",
       "  'currency': 'руб.',\n",
       "  'from_site': 'https://www.superjob.ru/vacancy/search/'},\n",
       " {'name': 'Разработчик SQL',\n",
       "  'url': 'https://www.superjob.ru/vacancy/search//vakansii/razrabotchik-sql-38284142.html',\n",
       "  'from_salary': None,\n",
       "  'up_to_salary': None,\n",
       "  'currency': 'руб.',\n",
       "  'from_site': 'https://www.superjob.ru/vacancy/search/'},\n",
       " {'name': 'Тестировщик ПО и радиоустройств',\n",
       "  'url': 'https://www.superjob.ru/vacancy/search//vakansii/testirovschik-po-i-radioustrojstv-39006205.html',\n",
       "  'from_salary': None,\n",
       "  'up_to_salary': 105000,\n",
       "  'currency': 'руб.',\n",
       "  'from_site': 'https://www.superjob.ru/vacancy/search/'},\n",
       " {'name': 'Инженер IT',\n",
       "  'url': 'https://www.superjob.ru/vacancy/search//vakansii/inzhener-it-39132553.html',\n",
       "  'from_salary': 90000,\n",
       "  'up_to_salary': None,\n",
       "  'currency': 'руб.',\n",
       "  'from_site': 'https://www.superjob.ru/vacancy/search/'},\n",
       " {'name': 'Системный администратор Linux',\n",
       "  'url': 'https://www.superjob.ru/vacancy/search//vakansii/sistemnyj-administrator-linux-39167682.html',\n",
       "  'from_salary': 130000,\n",
       "  'up_to_salary': None,\n",
       "  'currency': 'руб.',\n",
       "  'from_site': 'https://www.superjob.ru/vacancy/search/'},\n",
       " {'name': 'Программист 1С',\n",
       "  'url': 'https://www.superjob.ru/vacancy/search//vakansii/programmist-1s-38883789.html',\n",
       "  'from_salary': 120000,\n",
       "  'up_to_salary': None,\n",
       "  'currency': 'руб.',\n",
       "  'from_site': 'https://www.superjob.ru/vacancy/search/'},\n",
       " {'name': 'Программист 1С',\n",
       "  'url': 'https://www.superjob.ru/vacancy/search//vakansii/programmist-1s-38884652.html',\n",
       "  'from_salary': 50000,\n",
       "  'up_to_salary': None,\n",
       "  'currency': 'руб.',\n",
       "  'from_site': 'https://www.superjob.ru/vacancy/search/'},\n",
       " {'name': 'Преподаватель компьютерных курсов',\n",
       "  'url': 'https://www.superjob.ru/vacancy/search//vakansii/prepodavatel-kompyuternyh-kursov-38992516.html',\n",
       "  'from_salary': 48000,\n",
       "  'up_to_salary': None,\n",
       "  'currency': 'руб.',\n",
       "  'from_site': 'https://www.superjob.ru/vacancy/search/'},\n",
       " {'name': 'SEO-оптимизатор',\n",
       "  'url': 'https://www.superjob.ru/vacancy/search//vakansii/seo-optimizator-39071948.html',\n",
       "  'from_salary': 120000,\n",
       "  'up_to_salary': None,\n",
       "  'currency': 'руб.',\n",
       "  'from_site': 'https://www.superjob.ru/vacancy/search/'},\n",
       " {'name': 'Специалист службы поддержки (с техническими знаниями)',\n",
       "  'url': 'https://www.superjob.ru/vacancy/search//vakansii/specialist-sluzhby-podderzhki-37984527.html',\n",
       "  'from_salary': 15000,\n",
       "  'up_to_salary': None,\n",
       "  'currency': 'руб.',\n",
       "  'from_site': 'https://www.superjob.ru/vacancy/search/'}]"
      ]
     },
     "execution_count": 14,
     "metadata": {},
     "output_type": "execute_result"
    }
   ],
   "source": [
    "scraped_positions"
   ]
  },
  {
   "cell_type": "code",
   "execution_count": null,
   "id": "832accfd-6394-42b0-a6b4-f5da5b07fa4b",
   "metadata": {},
   "outputs": [],
   "source": []
  }
 ],
 "metadata": {
  "kernelspec": {
   "display_name": "Python 3 (ipykernel)",
   "language": "python",
   "name": "python3"
  },
  "language_info": {
   "codemirror_mode": {
    "name": "ipython",
    "version": 3
   },
   "file_extension": ".py",
   "mimetype": "text/x-python",
   "name": "python",
   "nbconvert_exporter": "python",
   "pygments_lexer": "ipython3",
   "version": "3.9.1"
  }
 },
 "nbformat": 4,
 "nbformat_minor": 5
}
