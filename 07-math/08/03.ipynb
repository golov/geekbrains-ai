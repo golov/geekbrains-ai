{
 "cells": [
  {
   "cell_type": "code",
   "execution_count": 18,
   "id": "4ff9aa34-0617-4650-800c-5a62b160bcb2",
   "metadata": {},
   "outputs": [
    {
     "name": "stdout",
     "output_type": "stream",
     "text": [
      "3.0247988712612695 2.0137441893688988\n"
     ]
    }
   ],
   "source": [
    "from scipy.optimize import fsolve, broyden2\n",
    "import math\n",
    "\n",
    "def equations(p):\n",
    "    x, y = p\n",
    "    \n",
    "    f1 = x**2-y**2+3*x*y**3-2*x**2*y**2+2*x-3*y-5\n",
    "    f2 = 3*y**3-2*x**2+2*x**3*y-5*x*2*y**2+5\n",
    "    return (f1, f2)\n",
    "\n",
    "# Численное решение системы уравнений\n",
    "x, y =  fsolve(equations, (10, 10))\n",
    "print (x, y)"
   ]
  },
  {
   "cell_type": "code",
   "execution_count": null,
   "id": "5ae43ac9-c75a-49ea-89a3-8c56292d8555",
   "metadata": {},
   "outputs": [],
   "source": []
  }
 ],
 "metadata": {
  "kernelspec": {
   "display_name": "Python 3 (ipykernel)",
   "language": "python",
   "name": "python3"
  },
  "language_info": {
   "codemirror_mode": {
    "name": "ipython",
    "version": 3
   },
   "file_extension": ".py",
   "mimetype": "text/x-python",
   "name": "python",
   "nbconvert_exporter": "python",
   "pygments_lexer": "ipython3",
   "version": "3.9.7"
  }
 },
 "nbformat": 4,
 "nbformat_minor": 5
}
