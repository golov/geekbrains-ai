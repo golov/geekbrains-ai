{
 "cells": [
  {
   "cell_type": "code",
   "execution_count": 1,
   "id": "70a97d80-591b-406a-946e-8b224d01aeef",
   "metadata": {},
   "outputs": [],
   "source": [
    "import numpy as np"
   ]
  },
  {
   "cell_type": "code",
   "execution_count": 2,
   "id": "529ae541-0098-4248-a136-a1d8793f3804",
   "metadata": {},
   "outputs": [],
   "source": [
    "def combinations(n: int, k: int) -> int:\n",
    "    \"\"\"Число сочетаний.\n",
    "    \"\"\"\n",
    "    \n",
    "    return np.math.factorial(n) // (np.math.factorial(k) * np.math.factorial(n - k))"
   ]
  },
  {
   "cell_type": "code",
   "execution_count": 5,
   "id": "2761177f-5e4b-4eb3-9a80-ffe006f3a5d8",
   "metadata": {},
   "outputs": [
    {
     "data": {
      "text/plain": [
       "76145"
      ]
     },
     "execution_count": 5,
     "metadata": {},
     "output_type": "execute_result"
    }
   ],
   "source": [
    "sum(combinations(4, i) * combinations(48, 4 - i) for i in range(1, 5))"
   ]
  },
  {
   "cell_type": "code",
   "execution_count": 6,
   "id": "07fb5fd0-8b53-45d8-ade1-fb7b908dd17b",
   "metadata": {},
   "outputs": [
    {
     "data": {
      "text/plain": [
       "76145"
      ]
     },
     "execution_count": 6,
     "metadata": {},
     "output_type": "execute_result"
    }
   ],
   "source": [
    "combinations(52, 4) - combinations(48, 4)"
   ]
  }
 ],
 "metadata": {
  "kernelspec": {
   "display_name": "Python 3 (ipykernel)",
   "language": "python",
   "name": "python3"
  },
  "language_info": {
   "codemirror_mode": {
    "name": "ipython",
    "version": 3
   },
   "file_extension": ".py",
   "mimetype": "text/x-python",
   "name": "python",
   "nbconvert_exporter": "python",
   "pygments_lexer": "ipython3",
   "version": "3.9.9"
  }
 },
 "nbformat": 4,
 "nbformat_minor": 5
}
