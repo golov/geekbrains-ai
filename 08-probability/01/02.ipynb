{
 "cells": [
  {
   "cell_type": "code",
   "execution_count": 1,
   "id": "8ca8e3da-506d-451a-bf10-bccf5ff58d4c",
   "metadata": {},
   "outputs": [],
   "source": [
    "import numpy as np"
   ]
  },
  {
   "cell_type": "code",
   "execution_count": 2,
   "id": "f3e3ecd0-874b-4135-bf1f-9b2a94854a90",
   "metadata": {},
   "outputs": [],
   "source": [
    "def combinations(n: int, k: int) -> int:\n",
    "    \"\"\"Число сочетаний.\n",
    "    \"\"\"\n",
    "    \n",
    "    return np.math.factorial(n) // (np.math.factorial(k) * np.math.factorial(n - k))"
   ]
  },
  {
   "cell_type": "code",
   "execution_count": 3,
   "id": "6efc9f94-d046-4a39-a1d3-659fe7f0b5e9",
   "metadata": {},
   "outputs": [
    {
     "data": {
      "text/plain": [
       "34220"
      ]
     },
     "execution_count": 3,
     "metadata": {},
     "output_type": "execute_result"
    }
   ],
   "source": [
    "# 2)\n",
    "\n",
    "total_combinations = combinations(60, 3)\n",
    "total_combinations"
   ]
  },
  {
   "cell_type": "code",
   "execution_count": 4,
   "id": "5c67fc13-bb79-4f9d-b499-daf25b3b27a2",
   "metadata": {},
   "outputs": [
    {
     "data": {
      "text/plain": [
       "19600"
      ]
     },
     "execution_count": 4,
     "metadata": {},
     "output_type": "execute_result"
    }
   ],
   "source": [
    "fully_known_combinations = combinations(50, 3) * combinations(10, 0)\n",
    "fully_known_combinations"
   ]
  },
  {
   "cell_type": "code",
   "execution_count": 5,
   "id": "5e8c8c03-927c-442e-b7af-07e8fd62a04e",
   "metadata": {},
   "outputs": [
    {
     "data": {
      "text/plain": [
       "0.5727644652250146"
      ]
     },
     "execution_count": 5,
     "metadata": {},
     "output_type": "execute_result"
    }
   ],
   "source": [
    "full_probability = fully_known_combinations / total_combinations\n",
    "full_probability"
   ]
  },
  {
   "cell_type": "code",
   "execution_count": 10,
   "id": "9af38b41-61b6-40de-82ef-fcaeff577c6e",
   "metadata": {},
   "outputs": [
    {
     "data": {
      "text/plain": [
       "12250"
      ]
     },
     "execution_count": 10,
     "metadata": {},
     "output_type": "execute_result"
    }
   ],
   "source": [
    "# 3)\n",
    "\n",
    "partly_known_combinations = combinations(50, 2) * combinations(10, 1)\n",
    "partly_known_combinations"
   ]
  },
  {
   "cell_type": "code",
   "execution_count": 11,
   "id": "6251f678-d518-4658-9e4c-f3e85aaa33fe",
   "metadata": {},
   "outputs": [
    {
     "data": {
      "text/plain": [
       "0.35797779076563413"
      ]
     },
     "execution_count": 11,
     "metadata": {},
     "output_type": "execute_result"
    }
   ],
   "source": [
    "probability = partly_known_combinations / total_combinations\n",
    "probability"
   ]
  }
 ],
 "metadata": {
  "kernelspec": {
   "display_name": "Python 3 (ipykernel)",
   "language": "python",
   "name": "python3"
  },
  "language_info": {
   "codemirror_mode": {
    "name": "ipython",
    "version": 3
   },
   "file_extension": ".py",
   "mimetype": "text/x-python",
   "name": "python",
   "nbconvert_exporter": "python",
   "pygments_lexer": "ipython3",
   "version": "3.9.9"
  }
 },
 "nbformat": 4,
 "nbformat_minor": 5
}
