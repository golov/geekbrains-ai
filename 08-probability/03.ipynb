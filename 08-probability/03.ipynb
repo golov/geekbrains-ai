{
 "cells": [
  {
   "cell_type": "code",
   "execution_count": 1,
   "id": "8ca8e3da-506d-451a-bf10-bccf5ff58d4c",
   "metadata": {},
   "outputs": [],
   "source": [
    "import numpy as np"
   ]
  },
  {
   "cell_type": "code",
   "execution_count": 2,
   "id": "23781b29-938c-4739-89df-ca4c409e8d97",
   "metadata": {},
   "outputs": [],
   "source": [
    "# 𝑃(𝐴|𝐵)=𝑃(𝐵|𝐴)⋅𝑃(𝐴)𝑃(𝐵)\n",
    "\n",
    "# 𝑃(𝐵)=𝑃(𝐵|𝐴)⋅𝑃(𝐴)+𝑃(𝐵|𝐴⎯⎯⎯⎯)⋅𝑃(𝐴⎯⎯⎯⎯)"
   ]
  },
  {
   "cell_type": "code",
   "execution_count": 6,
   "id": "765323c8-cfaf-4e78-acc4-8e4ab6ad99eb",
   "metadata": {},
   "outputs": [
    {
     "data": {
      "text/plain": [
       "0.01098"
      ]
     },
     "execution_count": 6,
     "metadata": {},
     "output_type": "execute_result"
    }
   ],
   "source": [
    "P_b = 0.99 * 0.001 + 0.01 * 0.999\n",
    "P_b"
   ]
  },
  {
   "cell_type": "code",
   "execution_count": 8,
   "id": "a26db2f6-75e4-426c-950b-bfbdd98bbf7a",
   "metadata": {},
   "outputs": [
    {
     "data": {
      "text/plain": [
       "0.09016393442622951"
      ]
     },
     "execution_count": 8,
     "metadata": {},
     "output_type": "execute_result"
    }
   ],
   "source": [
    "P_a_b = 0.001 * 0.99 / P_b\n",
    "P_a_b"
   ]
  }
 ],
 "metadata": {
  "kernelspec": {
   "display_name": "Python 3 (ipykernel)",
   "language": "python",
   "name": "python3"
  },
  "language_info": {
   "codemirror_mode": {
    "name": "ipython",
    "version": 3
   },
   "file_extension": ".py",
   "mimetype": "text/x-python",
   "name": "python",
   "nbconvert_exporter": "python",
   "pygments_lexer": "ipython3",
   "version": "3.9.9"
  }
 },
 "nbformat": 4,
 "nbformat_minor": 5
}
