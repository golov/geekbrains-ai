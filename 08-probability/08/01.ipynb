{
 "cells": [
  {
   "cell_type": "markdown",
   "metadata": {
    "collapsed": true,
    "pycharm": {
     "name": "#%% md\n"
    }
   },
   "source": [
    "Задача 1\n",
    "Используя данные о хоккеистах (скачать можно здесь), проверьте, является ли среди\n",
    "хоккеистов из Финляндии, Норвегии и Дании значимым отличие: а) роста, б) BMI.\n",
    "\n",
    "\n",
    "\n",
    "Похоже мой датасэт отличается от того из задания."
   ]
  },
  {
   "cell_type": "code",
   "execution_count": 13,
   "outputs": [],
   "source": [
    "import numpy as np\n",
    "import pandas as pd\n",
    "from scipy import stats\n",
    "from matplotlib import pyplot as plt"
   ],
   "metadata": {
    "collapsed": false,
    "pycharm": {
     "name": "#%%\n"
    }
   }
  },
  {
   "cell_type": "code",
   "execution_count": 2,
   "outputs": [],
   "source": [
    "def anova(*ys: np.ndarray) -> float:\n",
    "    \"\"\"Функция возвращает значение F-статистики\n",
    "    для дисперсионного анализа.\n",
    "    \"\"\"\n",
    "\n",
    "    y = np.concatenate(ys)\n",
    "\n",
    "    ss_b = sum((yi.mean() - y.mean()) ** 2 * yi.size for yi in ys)\n",
    "    ss_w = sum(((yi - yi.mean()) ** 2).sum() for yi in ys)\n",
    "\n",
    "    sigma_b = ss_b / (len(ys) - 1)\n",
    "    sigma_w = ss_w / (y.size - len(ys))\n",
    "\n",
    "    return sigma_b / sigma_w"
   ],
   "metadata": {
    "collapsed": false,
    "pycharm": {
     "name": "#%%\n"
    }
   }
  },
  {
   "cell_type": "code",
   "execution_count": 6,
   "outputs": [
    {
     "data": {
      "text/plain": "   year country  no                name position side  height  weight  \\\n0  2001     RUS  10    tverdovsky oleg         D    L     185    84.0   \n1  2001     RUS   2  vichnevsky vitali         D    L     188    86.0   \n\n        birth                   club        age  cohort        bmi  \n0  1976-05-18  anaheim mighty ducks   24.952772    1976  24.543462  \n1  1980-03-18  anaheim mighty ducks   21.119781    1980  24.332277  ",
      "text/html": "<div>\n<style scoped>\n    .dataframe tbody tr th:only-of-type {\n        vertical-align: middle;\n    }\n\n    .dataframe tbody tr th {\n        vertical-align: top;\n    }\n\n    .dataframe thead th {\n        text-align: right;\n    }\n</style>\n<table border=\"1\" class=\"dataframe\">\n  <thead>\n    <tr style=\"text-align: right;\">\n      <th></th>\n      <th>year</th>\n      <th>country</th>\n      <th>no</th>\n      <th>name</th>\n      <th>position</th>\n      <th>side</th>\n      <th>height</th>\n      <th>weight</th>\n      <th>birth</th>\n      <th>club</th>\n      <th>age</th>\n      <th>cohort</th>\n      <th>bmi</th>\n    </tr>\n  </thead>\n  <tbody>\n    <tr>\n      <th>0</th>\n      <td>2001</td>\n      <td>RUS</td>\n      <td>10</td>\n      <td>tverdovsky oleg</td>\n      <td>D</td>\n      <td>L</td>\n      <td>185</td>\n      <td>84.0</td>\n      <td>1976-05-18</td>\n      <td>anaheim mighty ducks</td>\n      <td>24.952772</td>\n      <td>1976</td>\n      <td>24.543462</td>\n    </tr>\n    <tr>\n      <th>1</th>\n      <td>2001</td>\n      <td>RUS</td>\n      <td>2</td>\n      <td>vichnevsky vitali</td>\n      <td>D</td>\n      <td>L</td>\n      <td>188</td>\n      <td>86.0</td>\n      <td>1980-03-18</td>\n      <td>anaheim mighty ducks</td>\n      <td>21.119781</td>\n      <td>1980</td>\n      <td>24.332277</td>\n    </tr>\n  </tbody>\n</table>\n</div>"
     },
     "execution_count": 6,
     "metadata": {},
     "output_type": "execute_result"
    }
   ],
   "source": [
    "df = pd.read_csv('hockey_players.csv')\n",
    "df.head(2)"
   ],
   "metadata": {
    "collapsed": false,
    "pycharm": {
     "name": "#%%\n"
    }
   }
  },
  {
   "cell_type": "code",
   "execution_count": 7,
   "outputs": [],
   "source": [
    "countries = ['FIN', 'NOR', 'DEN']"
   ],
   "metadata": {
    "collapsed": false,
    "pycharm": {
     "name": "#%%\n"
    }
   }
  },
  {
   "cell_type": "code",
   "execution_count": 8,
   "outputs": [
    {
     "data": {
      "text/plain": "4.273207343917213"
     },
     "execution_count": 8,
     "metadata": {},
     "output_type": "execute_result"
    }
   ],
   "source": [
    "ys = [df.loc[df['country'] == country, 'height'] for country in countries]\n",
    "\n",
    "F = anova(*ys)\n",
    "F"
   ],
   "metadata": {
    "collapsed": false,
    "pycharm": {
     "name": "#%%\n"
    }
   }
  },
  {
   "cell_type": "markdown",
   "source": [
    "Для построения критической области нам нужны квантили распределения Фишера с параметрами $k_1 = k - 1$, $k_2 = n - k$, где $k$ — число уровней, $n$ — общее число элементов во всех выборках."
   ],
   "metadata": {
    "collapsed": false,
    "pycharm": {
     "name": "#%% md\n"
    }
   }
  },
  {
   "cell_type": "code",
   "execution_count": 10,
   "outputs": [
    {
     "data": {
      "text/plain": "(2, 1023)"
     },
     "execution_count": 10,
     "metadata": {},
     "output_type": "execute_result"
    }
   ],
   "source": [
    "k = len(countries)\n",
    "n = sum(y.size for y in ys)\n",
    "\n",
    "k1 = k - 1\n",
    "k2 = n - k\n",
    "\n",
    "k1, k2"
   ],
   "metadata": {
    "collapsed": false,
    "pycharm": {
     "name": "#%%\n"
    }
   }
  },
  {
   "cell_type": "code",
   "execution_count": 12,
   "outputs": [
    {
     "data": {
      "text/plain": "3.0045220661840073"
     },
     "execution_count": 12,
     "metadata": {},
     "output_type": "execute_result"
    }
   ],
   "source": [
    "alpha = 0.05\n",
    "\n",
    "t = stats.f.ppf(1 - alpha, k1, k2)\n",
    "t"
   ],
   "metadata": {
    "collapsed": false,
    "pycharm": {
     "name": "#%%\n"
    }
   }
  },
  {
   "cell_type": "code",
   "execution_count": 14,
   "outputs": [],
   "source": [
    "plt.style.use('seaborn-whitegrid')\n",
    "%config InlineBackend.figure_formats = ['svg']"
   ],
   "metadata": {
    "collapsed": false,
    "pycharm": {
     "name": "#%%\n"
    }
   }
  },
  {
   "cell_type": "code",
   "execution_count": 16,
   "outputs": [
    {
     "data": {
      "text/plain": "<matplotlib.collections.PolyCollection at 0x128e4b0a0>"
     },
     "execution_count": 16,
     "metadata": {},
     "output_type": "execute_result"
    },
    {
     "data": {
      "text/plain": "<Figure size 432x288 with 1 Axes>",
      "image/svg+xml": "<?xml version=\"1.0\" encoding=\"utf-8\" standalone=\"no\"?>\n<!DOCTYPE svg PUBLIC \"-//W3C//DTD SVG 1.1//EN\"\n  \"http://www.w3.org/Graphics/SVG/1.1/DTD/svg11.dtd\">\n<svg height=\"244.485312pt\" version=\"1.1\" viewBox=\"0 0 366.6 244.485312\" width=\"366.6pt\" xmlns=\"http://www.w3.org/2000/svg\" xmlns:xlink=\"http://www.w3.org/1999/xlink\">\n <metadata>\n  <rdf:RDF xmlns:cc=\"http://creativecommons.org/ns#\" xmlns:dc=\"http://purl.org/dc/elements/1.1/\" xmlns:rdf=\"http://www.w3.org/1999/02/22-rdf-syntax-ns#\">\n   <cc:Work>\n    <dc:type rdf:resource=\"http://purl.org/dc/dcmitype/StillImage\"/>\n    <dc:date>2022-02-08T09:21:45.898713</dc:date>\n    <dc:format>image/svg+xml</dc:format>\n    <dc:creator>\n     <cc:Agent>\n      <dc:title>Matplotlib v3.4.2, https://matplotlib.org/</dc:title>\n     </cc:Agent>\n    </dc:creator>\n   </cc:Work>\n  </rdf:RDF>\n </metadata>\n <defs>\n  <style type=\"text/css\">*{stroke-linecap:butt;stroke-linejoin:round;}</style>\n </defs>\n <g id=\"figure_1\">\n  <g id=\"patch_1\">\n   <path d=\"M 0 244.485312 \nL 366.6 244.485312 \nL 366.6 0 \nL 0 0 \nz\n\" style=\"fill:#ffffff;\"/>\n  </g>\n  <g id=\"axes_1\">\n   <g id=\"patch_2\">\n    <path d=\"M 24.6 224.64 \nL 359.4 224.64 \nL 359.4 7.2 \nL 24.6 7.2 \nz\n\" style=\"fill:#ffffff;\"/>\n   </g>\n   <g id=\"matplotlib.axis_1\">\n    <g id=\"xtick_1\">\n     <g id=\"line2d_1\">\n      <path clip-path=\"url(#p3885ee794c)\" d=\"M 39.818182 224.64 \nL 39.818182 7.2 \n\" style=\"fill:none;stroke:#cccccc;stroke-linecap:round;stroke-width:0.8;\"/>\n     </g>\n     <g id=\"line2d_2\"/>\n     <g id=\"text_1\">\n      <!-- 0 -->\n      <g style=\"fill:#262626;\" transform=\"translate(37.037713 235.297812)scale(0.1 -0.1)\">\n       <defs>\n        <path d=\"M 266 2259 \nQ 266 3072 433 3567 \nQ 600 4063 929 4331 \nQ 1259 4600 1759 4600 \nQ 2128 4600 2406 4451 \nQ 2684 4303 2865 4023 \nQ 3047 3744 3150 3342 \nQ 3253 2941 3253 2259 \nQ 3253 1453 3087 958 \nQ 2922 463 2592 192 \nQ 2263 -78 1759 -78 \nQ 1097 -78 719 397 \nQ 266 969 266 2259 \nz\nM 844 2259 \nQ 844 1131 1108 757 \nQ 1372 384 1759 384 \nQ 2147 384 2411 759 \nQ 2675 1134 2675 2259 \nQ 2675 3391 2411 3762 \nQ 2147 4134 1753 4134 \nQ 1366 4134 1134 3806 \nQ 844 3388 844 2259 \nz\n\" id=\"ArialMT-30\" transform=\"scale(0.015625)\"/>\n       </defs>\n       <use xlink:href=\"#ArialMT-30\"/>\n      </g>\n     </g>\n    </g>\n    <g id=\"xtick_2\">\n     <g id=\"line2d_3\">\n      <path clip-path=\"url(#p3885ee794c)\" d=\"M 100.690909 224.64 \nL 100.690909 7.2 \n\" style=\"fill:none;stroke:#cccccc;stroke-linecap:round;stroke-width:0.8;\"/>\n     </g>\n     <g id=\"line2d_4\"/>\n     <g id=\"text_2\">\n      <!-- 1 -->\n      <g style=\"fill:#262626;\" transform=\"translate(97.91044 235.297812)scale(0.1 -0.1)\">\n       <defs>\n        <path d=\"M 2384 0 \nL 1822 0 \nL 1822 3584 \nQ 1619 3391 1289 3197 \nQ 959 3003 697 2906 \nL 697 3450 \nQ 1169 3672 1522 3987 \nQ 1875 4303 2022 4600 \nL 2384 4600 \nL 2384 0 \nz\n\" id=\"ArialMT-31\" transform=\"scale(0.015625)\"/>\n       </defs>\n       <use xlink:href=\"#ArialMT-31\"/>\n      </g>\n     </g>\n    </g>\n    <g id=\"xtick_3\">\n     <g id=\"line2d_5\">\n      <path clip-path=\"url(#p3885ee794c)\" d=\"M 161.563636 224.64 \nL 161.563636 7.2 \n\" style=\"fill:none;stroke:#cccccc;stroke-linecap:round;stroke-width:0.8;\"/>\n     </g>\n     <g id=\"line2d_6\"/>\n     <g id=\"text_3\">\n      <!-- 2 -->\n      <g style=\"fill:#262626;\" transform=\"translate(158.783168 235.297812)scale(0.1 -0.1)\">\n       <defs>\n        <path d=\"M 3222 541 \nL 3222 0 \nL 194 0 \nQ 188 203 259 391 \nQ 375 700 629 1000 \nQ 884 1300 1366 1694 \nQ 2113 2306 2375 2664 \nQ 2638 3022 2638 3341 \nQ 2638 3675 2398 3904 \nQ 2159 4134 1775 4134 \nQ 1369 4134 1125 3890 \nQ 881 3647 878 3216 \nL 300 3275 \nQ 359 3922 746 4261 \nQ 1134 4600 1788 4600 \nQ 2447 4600 2831 4234 \nQ 3216 3869 3216 3328 \nQ 3216 3053 3103 2787 \nQ 2991 2522 2730 2228 \nQ 2469 1934 1863 1422 \nQ 1356 997 1212 845 \nQ 1069 694 975 541 \nL 3222 541 \nz\n\" id=\"ArialMT-32\" transform=\"scale(0.015625)\"/>\n       </defs>\n       <use xlink:href=\"#ArialMT-32\"/>\n      </g>\n     </g>\n    </g>\n    <g id=\"xtick_4\">\n     <g id=\"line2d_7\">\n      <path clip-path=\"url(#p3885ee794c)\" d=\"M 222.436364 224.64 \nL 222.436364 7.2 \n\" style=\"fill:none;stroke:#cccccc;stroke-linecap:round;stroke-width:0.8;\"/>\n     </g>\n     <g id=\"line2d_8\"/>\n     <g id=\"text_4\">\n      <!-- 3 -->\n      <g style=\"fill:#262626;\" transform=\"translate(219.655895 235.297812)scale(0.1 -0.1)\">\n       <defs>\n        <path d=\"M 269 1209 \nL 831 1284 \nQ 928 806 1161 595 \nQ 1394 384 1728 384 \nQ 2125 384 2398 659 \nQ 2672 934 2672 1341 \nQ 2672 1728 2419 1979 \nQ 2166 2231 1775 2231 \nQ 1616 2231 1378 2169 \nL 1441 2663 \nQ 1497 2656 1531 2656 \nQ 1891 2656 2178 2843 \nQ 2466 3031 2466 3422 \nQ 2466 3731 2256 3934 \nQ 2047 4138 1716 4138 \nQ 1388 4138 1169 3931 \nQ 950 3725 888 3313 \nL 325 3413 \nQ 428 3978 793 4289 \nQ 1159 4600 1703 4600 \nQ 2078 4600 2393 4439 \nQ 2709 4278 2876 4000 \nQ 3044 3722 3044 3409 \nQ 3044 3113 2884 2869 \nQ 2725 2625 2413 2481 \nQ 2819 2388 3044 2092 \nQ 3269 1797 3269 1353 \nQ 3269 753 2831 336 \nQ 2394 -81 1725 -81 \nQ 1122 -81 723 278 \nQ 325 638 269 1209 \nz\n\" id=\"ArialMT-33\" transform=\"scale(0.015625)\"/>\n       </defs>\n       <use xlink:href=\"#ArialMT-33\"/>\n      </g>\n     </g>\n    </g>\n    <g id=\"xtick_5\">\n     <g id=\"line2d_9\">\n      <path clip-path=\"url(#p3885ee794c)\" d=\"M 283.309091 224.64 \nL 283.309091 7.2 \n\" style=\"fill:none;stroke:#cccccc;stroke-linecap:round;stroke-width:0.8;\"/>\n     </g>\n     <g id=\"line2d_10\"/>\n     <g id=\"text_5\">\n      <!-- 4 -->\n      <g style=\"fill:#262626;\" transform=\"translate(280.528622 235.297812)scale(0.1 -0.1)\">\n       <defs>\n        <path d=\"M 2069 0 \nL 2069 1097 \nL 81 1097 \nL 81 1613 \nL 2172 4581 \nL 2631 4581 \nL 2631 1613 \nL 3250 1613 \nL 3250 1097 \nL 2631 1097 \nL 2631 0 \nL 2069 0 \nz\nM 2069 1613 \nL 2069 3678 \nL 634 1613 \nL 2069 1613 \nz\n\" id=\"ArialMT-34\" transform=\"scale(0.015625)\"/>\n       </defs>\n       <use xlink:href=\"#ArialMT-34\"/>\n      </g>\n     </g>\n    </g>\n    <g id=\"xtick_6\">\n     <g id=\"line2d_11\">\n      <path clip-path=\"url(#p3885ee794c)\" d=\"M 344.181818 224.64 \nL 344.181818 7.2 \n\" style=\"fill:none;stroke:#cccccc;stroke-linecap:round;stroke-width:0.8;\"/>\n     </g>\n     <g id=\"line2d_12\"/>\n     <g id=\"text_6\">\n      <!-- 5 -->\n      <g style=\"fill:#262626;\" transform=\"translate(341.401349 235.297812)scale(0.1 -0.1)\">\n       <defs>\n        <path d=\"M 266 1200 \nL 856 1250 \nQ 922 819 1161 601 \nQ 1400 384 1738 384 \nQ 2144 384 2425 690 \nQ 2706 997 2706 1503 \nQ 2706 1984 2436 2262 \nQ 2166 2541 1728 2541 \nQ 1456 2541 1237 2417 \nQ 1019 2294 894 2097 \nL 366 2166 \nL 809 4519 \nL 3088 4519 \nL 3088 3981 \nL 1259 3981 \nL 1013 2750 \nQ 1425 3038 1878 3038 \nQ 2478 3038 2890 2622 \nQ 3303 2206 3303 1553 \nQ 3303 931 2941 478 \nQ 2500 -78 1738 -78 \nQ 1113 -78 717 272 \nQ 322 622 266 1200 \nz\n\" id=\"ArialMT-35\" transform=\"scale(0.015625)\"/>\n       </defs>\n       <use xlink:href=\"#ArialMT-35\"/>\n      </g>\n     </g>\n    </g>\n   </g>\n   <g id=\"matplotlib.axis_2\">\n    <g id=\"ytick_1\">\n     <g id=\"line2d_13\">\n      <path clip-path=\"url(#p3885ee794c)\" d=\"M 24.6 214.756364 \nL 359.4 214.756364 \n\" style=\"fill:none;stroke:#cccccc;stroke-linecap:round;stroke-width:0.8;\"/>\n     </g>\n     <g id=\"line2d_14\"/>\n     <g id=\"text_7\">\n      <!-- 0.0 -->\n      <g style=\"fill:#262626;\" transform=\"translate(7.2 218.33527)scale(0.1 -0.1)\">\n       <defs>\n        <path d=\"M 581 0 \nL 581 641 \nL 1222 641 \nL 1222 0 \nL 581 0 \nz\n\" id=\"ArialMT-2e\" transform=\"scale(0.015625)\"/>\n       </defs>\n       <use xlink:href=\"#ArialMT-30\"/>\n       <use x=\"55.615234\" xlink:href=\"#ArialMT-2e\"/>\n       <use x=\"83.398438\" xlink:href=\"#ArialMT-30\"/>\n      </g>\n     </g>\n    </g>\n    <g id=\"ytick_2\">\n     <g id=\"line2d_15\">\n      <path clip-path=\"url(#p3885ee794c)\" d=\"M 24.6 175.221818 \nL 359.4 175.221818 \n\" style=\"fill:none;stroke:#cccccc;stroke-linecap:round;stroke-width:0.8;\"/>\n     </g>\n     <g id=\"line2d_16\"/>\n     <g id=\"text_8\">\n      <!-- 0.2 -->\n      <g style=\"fill:#262626;\" transform=\"translate(7.2 178.800724)scale(0.1 -0.1)\">\n       <use xlink:href=\"#ArialMT-30\"/>\n       <use x=\"55.615234\" xlink:href=\"#ArialMT-2e\"/>\n       <use x=\"83.398438\" xlink:href=\"#ArialMT-32\"/>\n      </g>\n     </g>\n    </g>\n    <g id=\"ytick_3\">\n     <g id=\"line2d_17\">\n      <path clip-path=\"url(#p3885ee794c)\" d=\"M 24.6 135.687273 \nL 359.4 135.687273 \n\" style=\"fill:none;stroke:#cccccc;stroke-linecap:round;stroke-width:0.8;\"/>\n     </g>\n     <g id=\"line2d_18\"/>\n     <g id=\"text_9\">\n      <!-- 0.4 -->\n      <g style=\"fill:#262626;\" transform=\"translate(7.2 139.266179)scale(0.1 -0.1)\">\n       <use xlink:href=\"#ArialMT-30\"/>\n       <use x=\"55.615234\" xlink:href=\"#ArialMT-2e\"/>\n       <use x=\"83.398438\" xlink:href=\"#ArialMT-34\"/>\n      </g>\n     </g>\n    </g>\n    <g id=\"ytick_4\">\n     <g id=\"line2d_19\">\n      <path clip-path=\"url(#p3885ee794c)\" d=\"M 24.6 96.152727 \nL 359.4 96.152727 \n\" style=\"fill:none;stroke:#cccccc;stroke-linecap:round;stroke-width:0.8;\"/>\n     </g>\n     <g id=\"line2d_20\"/>\n     <g id=\"text_10\">\n      <!-- 0.6 -->\n      <g style=\"fill:#262626;\" transform=\"translate(7.2 99.731634)scale(0.1 -0.1)\">\n       <defs>\n        <path d=\"M 3184 3459 \nL 2625 3416 \nQ 2550 3747 2413 3897 \nQ 2184 4138 1850 4138 \nQ 1581 4138 1378 3988 \nQ 1113 3794 959 3422 \nQ 806 3050 800 2363 \nQ 1003 2672 1297 2822 \nQ 1591 2972 1913 2972 \nQ 2475 2972 2870 2558 \nQ 3266 2144 3266 1488 \nQ 3266 1056 3080 686 \nQ 2894 316 2569 119 \nQ 2244 -78 1831 -78 \nQ 1128 -78 684 439 \nQ 241 956 241 2144 \nQ 241 3472 731 4075 \nQ 1159 4600 1884 4600 \nQ 2425 4600 2770 4297 \nQ 3116 3994 3184 3459 \nz\nM 888 1484 \nQ 888 1194 1011 928 \nQ 1134 663 1356 523 \nQ 1578 384 1822 384 \nQ 2178 384 2434 671 \nQ 2691 959 2691 1453 \nQ 2691 1928 2437 2201 \nQ 2184 2475 1800 2475 \nQ 1419 2475 1153 2201 \nQ 888 1928 888 1484 \nz\n\" id=\"ArialMT-36\" transform=\"scale(0.015625)\"/>\n       </defs>\n       <use xlink:href=\"#ArialMT-30\"/>\n       <use x=\"55.615234\" xlink:href=\"#ArialMT-2e\"/>\n       <use x=\"83.398438\" xlink:href=\"#ArialMT-36\"/>\n      </g>\n     </g>\n    </g>\n    <g id=\"ytick_5\">\n     <g id=\"line2d_21\">\n      <path clip-path=\"url(#p3885ee794c)\" d=\"M 24.6 56.618182 \nL 359.4 56.618182 \n\" style=\"fill:none;stroke:#cccccc;stroke-linecap:round;stroke-width:0.8;\"/>\n     </g>\n     <g id=\"line2d_22\"/>\n     <g id=\"text_11\">\n      <!-- 0.8 -->\n      <g style=\"fill:#262626;\" transform=\"translate(7.2 60.197088)scale(0.1 -0.1)\">\n       <defs>\n        <path d=\"M 1131 2484 \nQ 781 2613 612 2850 \nQ 444 3088 444 3419 \nQ 444 3919 803 4259 \nQ 1163 4600 1759 4600 \nQ 2359 4600 2725 4251 \nQ 3091 3903 3091 3403 \nQ 3091 3084 2923 2848 \nQ 2756 2613 2416 2484 \nQ 2838 2347 3058 2040 \nQ 3278 1734 3278 1309 \nQ 3278 722 2862 322 \nQ 2447 -78 1769 -78 \nQ 1091 -78 675 323 \nQ 259 725 259 1325 \nQ 259 1772 486 2073 \nQ 713 2375 1131 2484 \nz\nM 1019 3438 \nQ 1019 3113 1228 2906 \nQ 1438 2700 1772 2700 \nQ 2097 2700 2305 2904 \nQ 2513 3109 2513 3406 \nQ 2513 3716 2298 3927 \nQ 2084 4138 1766 4138 \nQ 1444 4138 1231 3931 \nQ 1019 3725 1019 3438 \nz\nM 838 1322 \nQ 838 1081 952 856 \nQ 1066 631 1291 507 \nQ 1516 384 1775 384 \nQ 2178 384 2440 643 \nQ 2703 903 2703 1303 \nQ 2703 1709 2433 1975 \nQ 2163 2241 1756 2241 \nQ 1359 2241 1098 1978 \nQ 838 1716 838 1322 \nz\n\" id=\"ArialMT-38\" transform=\"scale(0.015625)\"/>\n       </defs>\n       <use xlink:href=\"#ArialMT-30\"/>\n       <use x=\"55.615234\" xlink:href=\"#ArialMT-2e\"/>\n       <use x=\"83.398438\" xlink:href=\"#ArialMT-38\"/>\n      </g>\n     </g>\n    </g>\n    <g id=\"ytick_6\">\n     <g id=\"line2d_23\">\n      <path clip-path=\"url(#p3885ee794c)\" d=\"M 24.6 17.083636 \nL 359.4 17.083636 \n\" style=\"fill:none;stroke:#cccccc;stroke-linecap:round;stroke-width:0.8;\"/>\n     </g>\n     <g id=\"line2d_24\"/>\n     <g id=\"text_12\">\n      <!-- 1.0 -->\n      <g style=\"fill:#262626;\" transform=\"translate(7.2 20.662543)scale(0.1 -0.1)\">\n       <use xlink:href=\"#ArialMT-31\"/>\n       <use x=\"55.615234\" xlink:href=\"#ArialMT-2e\"/>\n       <use x=\"83.398438\" xlink:href=\"#ArialMT-30\"/>\n      </g>\n     </g>\n    </g>\n   </g>\n   <g id=\"PolyCollection_1\">\n    <path clip-path=\"url(#p3885ee794c)\" d=\"M 222.711634 214.756364 \nL 222.711634 204.930444 \nL 223.938606 205.125756 \nL 225.165577 205.317178 \nL 226.392549 205.504788 \nL 227.61952 205.688662 \nL 228.846492 205.868875 \nL 230.073463 206.045499 \nL 231.300435 206.218607 \nL 232.527407 206.388267 \nL 233.754378 206.55455 \nL 234.98135 206.717523 \nL 236.208321 206.87725 \nL 237.435293 207.033798 \nL 238.662264 207.18723 \nL 239.889236 207.337607 \nL 241.116207 207.484992 \nL 242.343179 207.629442 \nL 243.570151 207.771018 \nL 244.797122 207.909775 \nL 246.024094 208.045772 \nL 247.251065 208.179061 \nL 248.478037 208.309698 \nL 249.705008 208.437736 \nL 250.93198 208.563225 \nL 252.158951 208.686218 \nL 253.385923 208.806763 \nL 254.612895 208.92491 \nL 255.839866 209.040706 \nL 257.066838 209.154199 \nL 258.293809 209.265434 \nL 259.520781 209.374455 \nL 260.747752 209.481308 \nL 261.974724 209.586036 \nL 263.201695 209.68868 \nL 264.428667 209.789283 \nL 265.655639 209.887884 \nL 266.88261 209.984525 \nL 268.109582 210.079244 \nL 269.336553 210.172078 \nL 270.563525 210.263067 \nL 271.790496 210.352247 \nL 273.017468 210.439652 \nL 274.244439 210.52532 \nL 275.471411 210.609285 \nL 276.698383 210.69158 \nL 277.925354 210.772239 \nL 279.152326 210.851294 \nL 280.379297 210.928778 \nL 281.606269 211.004721 \nL 282.83324 211.079155 \nL 284.060212 211.152109 \nL 285.287183 211.223613 \nL 286.514155 211.293695 \nL 287.741127 211.362385 \nL 288.968098 211.429709 \nL 290.19507 211.495696 \nL 291.422041 211.560371 \nL 292.649013 211.623761 \nL 293.875984 211.685891 \nL 295.102956 211.746786 \nL 296.329927 211.806472 \nL 297.556899 211.864971 \nL 298.783871 211.922308 \nL 300.010842 211.978506 \nL 301.237814 212.033588 \nL 302.464785 212.087575 \nL 303.691757 212.14049 \nL 304.918728 212.192353 \nL 306.1457 212.243186 \nL 307.372672 212.29301 \nL 308.599643 212.341844 \nL 309.826615 212.389708 \nL 311.053586 212.436621 \nL 312.280558 212.482603 \nL 313.507529 212.527671 \nL 314.734501 212.571845 \nL 315.961472 212.615141 \nL 317.188444 212.657577 \nL 318.415416 212.699171 \nL 319.642387 212.739939 \nL 320.869359 212.779897 \nL 322.09633 212.819063 \nL 323.323302 212.85745 \nL 324.550273 212.895076 \nL 325.777245 212.931954 \nL 327.004216 212.968101 \nL 328.231188 213.003529 \nL 329.45816 213.038255 \nL 330.685131 213.072291 \nL 331.912103 213.105652 \nL 333.139074 213.138351 \nL 334.366046 213.170401 \nL 335.593017 213.201814 \nL 336.819989 213.232604 \nL 338.04696 213.262784 \nL 339.273932 213.292364 \nL 340.500904 213.321357 \nL 341.727875 213.349776 \nL 342.954847 213.37763 \nL 344.181818 213.404931 \nL 344.181818 214.756364 \nL 344.181818 214.756364 \nL 342.954847 214.756364 \nL 341.727875 214.756364 \nL 340.500904 214.756364 \nL 339.273932 214.756364 \nL 338.04696 214.756364 \nL 336.819989 214.756364 \nL 335.593017 214.756364 \nL 334.366046 214.756364 \nL 333.139074 214.756364 \nL 331.912103 214.756364 \nL 330.685131 214.756364 \nL 329.45816 214.756364 \nL 328.231188 214.756364 \nL 327.004216 214.756364 \nL 325.777245 214.756364 \nL 324.550273 214.756364 \nL 323.323302 214.756364 \nL 322.09633 214.756364 \nL 320.869359 214.756364 \nL 319.642387 214.756364 \nL 318.415416 214.756364 \nL 317.188444 214.756364 \nL 315.961472 214.756364 \nL 314.734501 214.756364 \nL 313.507529 214.756364 \nL 312.280558 214.756364 \nL 311.053586 214.756364 \nL 309.826615 214.756364 \nL 308.599643 214.756364 \nL 307.372672 214.756364 \nL 306.1457 214.756364 \nL 304.918728 214.756364 \nL 303.691757 214.756364 \nL 302.464785 214.756364 \nL 301.237814 214.756364 \nL 300.010842 214.756364 \nL 298.783871 214.756364 \nL 297.556899 214.756364 \nL 296.329927 214.756364 \nL 295.102956 214.756364 \nL 293.875984 214.756364 \nL 292.649013 214.756364 \nL 291.422041 214.756364 \nL 290.19507 214.756364 \nL 288.968098 214.756364 \nL 287.741127 214.756364 \nL 286.514155 214.756364 \nL 285.287183 214.756364 \nL 284.060212 214.756364 \nL 282.83324 214.756364 \nL 281.606269 214.756364 \nL 280.379297 214.756364 \nL 279.152326 214.756364 \nL 277.925354 214.756364 \nL 276.698383 214.756364 \nL 275.471411 214.756364 \nL 274.244439 214.756364 \nL 273.017468 214.756364 \nL 271.790496 214.756364 \nL 270.563525 214.756364 \nL 269.336553 214.756364 \nL 268.109582 214.756364 \nL 266.88261 214.756364 \nL 265.655639 214.756364 \nL 264.428667 214.756364 \nL 263.201695 214.756364 \nL 261.974724 214.756364 \nL 260.747752 214.756364 \nL 259.520781 214.756364 \nL 258.293809 214.756364 \nL 257.066838 214.756364 \nL 255.839866 214.756364 \nL 254.612895 214.756364 \nL 253.385923 214.756364 \nL 252.158951 214.756364 \nL 250.93198 214.756364 \nL 249.705008 214.756364 \nL 248.478037 214.756364 \nL 247.251065 214.756364 \nL 246.024094 214.756364 \nL 244.797122 214.756364 \nL 243.570151 214.756364 \nL 242.343179 214.756364 \nL 241.116207 214.756364 \nL 239.889236 214.756364 \nL 238.662264 214.756364 \nL 237.435293 214.756364 \nL 236.208321 214.756364 \nL 234.98135 214.756364 \nL 233.754378 214.756364 \nL 232.527407 214.756364 \nL 231.300435 214.756364 \nL 230.073463 214.756364 \nL 228.846492 214.756364 \nL 227.61952 214.756364 \nL 226.392549 214.756364 \nL 225.165577 214.756364 \nL 223.938606 214.756364 \nL 222.711634 214.756364 \nz\n\" style=\"fill:#1f77b4;fill-opacity:0.5;\"/>\n   </g>\n   <g id=\"line2d_25\">\n    <path clip-path=\"url(#p3885ee794c)\" d=\"M 39.818182 17.083636 \nL 43.477865 28.638801 \nL 47.137548 39.517256 \nL 50.797231 49.758704 \nL 54.456914 59.400515 \nL 58.116597 68.477862 \nL 61.77628 77.023851 \nL 65.435963 85.069644 \nL 69.095646 92.644569 \nL 72.755329 99.776235 \nL 76.415012 106.490627 \nL 80.684642 113.829248 \nL 84.954272 120.669527 \nL 89.223902 127.045368 \nL 93.493533 132.988361 \nL 97.763163 138.527945 \nL 102.032793 143.691554 \nL 106.302423 148.504751 \nL 110.572053 152.991359 \nL 114.841683 157.173578 \nL 119.111314 161.072097 \nL 123.990891 165.204829 \nL 128.870468 169.018843 \nL 133.750046 172.538761 \nL 138.629623 175.787302 \nL 143.5092 178.785425 \nL 148.998725 181.883007 \nL 154.488249 184.71337 \nL 159.977774 187.299608 \nL 166.077245 189.912478 \nL 172.176717 192.276261 \nL 178.276189 194.414744 \nL 184.985608 196.532466 \nL 192.304974 198.591639 \nL 199.62434 200.417738 \nL 207.553653 202.163571 \nL 216.092913 203.806335 \nL 225.242121 205.328993 \nL 235.001275 206.720142 \nL 245.370377 207.973655 \nL 256.959373 209.14435 \nL 269.768264 210.204302 \nL 283.797049 211.136585 \nL 299.655675 211.962355 \nL 317.95409 212.68363 \nL 339.302241 213.29304 \nL 344.181818 213.404931 \nL 344.181818 213.404931 \n\" style=\"fill:none;stroke:#1f77b4;stroke-linecap:round;stroke-width:1.5;\"/>\n   </g>\n   <g id=\"patch_3\">\n    <path d=\"M 24.6 224.64 \nL 24.6 7.2 \n\" style=\"fill:none;stroke:#cccccc;stroke-linecap:square;stroke-linejoin:miter;\"/>\n   </g>\n   <g id=\"patch_4\">\n    <path d=\"M 359.4 224.64 \nL 359.4 7.2 \n\" style=\"fill:none;stroke:#cccccc;stroke-linecap:square;stroke-linejoin:miter;\"/>\n   </g>\n   <g id=\"patch_5\">\n    <path d=\"M 24.6 224.64 \nL 359.4 224.64 \n\" style=\"fill:none;stroke:#cccccc;stroke-linecap:square;stroke-linejoin:miter;\"/>\n   </g>\n   <g id=\"patch_6\">\n    <path d=\"M 24.6 7.2 \nL 359.4 7.2 \n\" style=\"fill:none;stroke:#cccccc;stroke-linecap:square;stroke-linejoin:miter;\"/>\n   </g>\n  </g>\n </g>\n <defs>\n  <clipPath id=\"p3885ee794c\">\n   <rect height=\"217.44\" width=\"334.8\" x=\"24.6\" y=\"7.2\"/>\n  </clipPath>\n </defs>\n</svg>\n"
     },
     "metadata": {},
     "output_type": "display_data"
    }
   ],
   "source": [
    "ox = np.linspace(0, 5, 500)\n",
    "oy = stats.f.pdf(ox, k1, k2)\n",
    "\n",
    "ox_right = np.linspace(t, 5, 100)\n",
    "oy_right = stats.f.pdf(ox_right, k1, k2)\n",
    "\n",
    "plt.plot(ox, oy)\n",
    "\n",
    "plt.fill_between(ox_right, oy_right, alpha=0.5)"
   ],
   "metadata": {
    "collapsed": false,
    "pycharm": {
     "name": "#%%\n"
    }
   }
  },
  {
   "cell_type": "markdown",
   "source": [
    "\n",
    "Поскольку статистика попала в критическую область, заключаем, что между ростами хоккеистов выбранных стран действительно есть значимое отличие."
   ],
   "metadata": {
    "collapsed": false,
    "pycharm": {
     "name": "#%% md\n"
    }
   }
  },
  {
   "cell_type": "code",
   "execution_count": 17,
   "outputs": [
    {
     "data": {
      "text/plain": "36.058167277438194"
     },
     "execution_count": 17,
     "metadata": {},
     "output_type": "execute_result"
    }
   ],
   "source": [
    "ys = [df.loc[df['country'] == country, 'bmi'] for country in countries]\n",
    "\n",
    "F = anova(*ys)\n",
    "F"
   ],
   "metadata": {
    "collapsed": false,
    "pycharm": {
     "name": "#%%\n"
    }
   }
  },
  {
   "cell_type": "markdown",
   "source": [
    "Разница между BMI хоккеистов также признаётся значимой."
   ],
   "metadata": {
    "collapsed": false,
    "pycharm": {
     "name": "#%% md\n"
    }
   }
  }
 ],
 "metadata": {
  "kernelspec": {
   "display_name": "Python 3",
   "language": "python",
   "name": "python3"
  },
  "language_info": {
   "codemirror_mode": {
    "name": "ipython",
    "version": 2
   },
   "file_extension": ".py",
   "mimetype": "text/x-python",
   "name": "python",
   "nbconvert_exporter": "python",
   "pygments_lexer": "ipython2",
   "version": "2.7.6"
  }
 },
 "nbformat": 4,
 "nbformat_minor": 0
}