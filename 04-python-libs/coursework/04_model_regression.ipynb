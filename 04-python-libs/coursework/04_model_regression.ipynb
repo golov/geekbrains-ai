{
 "cells": [
  {
   "cell_type": "code",
   "execution_count": 928,
   "id": "d7d44c26-8f43-469f-a456-e580b72951e6",
   "metadata": {},
   "outputs": [],
   "source": [
    "import numpy as np\n",
    "import pandas as pd\n",
    "import pickle\n",
    "\n",
    "from sklearn.model_selection import train_test_split\n",
    "from sklearn.preprocessing import StandardScaler\n",
    "from sklearn.linear_model import LinearRegression\n",
    "from sklearn.svm import SVR\n",
    "from sklearn.ensemble import RandomForestRegressor, GradientBoostingRegressor\n",
    "from sklearn.metrics import r2_score as r2, mean_absolute_error as mae, mean_squared_error as mse\n",
    "from sklearn.model_selection import KFold, GridSearchCV\n",
    "\n",
    "import matplotlib\n",
    "import matplotlib.pyplot as plt\n",
    "import seaborn as sns\n",
    "%matplotlib inline\n",
    "\n",
    "import warnings\n",
    "warnings.filterwarnings('ignore')"
   ]
  },
  {
   "cell_type": "code",
   "execution_count": 929,
   "id": "e1ffcf20-b509-47de-b18a-18ba633f0f62",
   "metadata": {},
   "outputs": [],
   "source": [
    "TRAIN_DATASET_PATH = '../housing_train.csv'"
   ]
  },
  {
   "cell_type": "code",
   "execution_count": 930,
   "id": "68053f40-2bca-4dc7-97fd-184764e6aca3",
   "metadata": {},
   "outputs": [],
   "source": [
    "def evaluate_preds(true_values, pred_values):\n",
    "    print(\"R2:\\t\" + str(round(r2(true_values, pred_values), 3)) + \"\\n\" +\n",
    "          \"MAE:\\t\" + str(round(mae(true_values, pred_values), 3)) + \"\\n\" +\n",
    "          \"MSE:\\t\" + str(round(mse(true_values, pred_values), 3)))\n",
    "    \n",
    "    plt.figure(figsize=(10,10))\n",
    "    \n",
    "    sns.scatterplot(x=pred_values, y=true_values)\n",
    "    \n",
    "    plt.xlabel('Predicted values')\n",
    "    plt.ylabel('True values')\n",
    "    plt.title('True vs Predicted values')\n",
    "    plt.show()"
   ]
  },
  {
   "cell_type": "code",
   "execution_count": 931,
   "id": "6afcdcb3-2e22-4003-baec-ea301b938f39",
   "metadata": {},
   "outputs": [
    {
     "data": {
      "text/html": [
       "<div>\n",
       "<style scoped>\n",
       "    .dataframe tbody tr th:only-of-type {\n",
       "        vertical-align: middle;\n",
       "    }\n",
       "\n",
       "    .dataframe tbody tr th {\n",
       "        vertical-align: top;\n",
       "    }\n",
       "\n",
       "    .dataframe thead th {\n",
       "        text-align: right;\n",
       "    }\n",
       "</style>\n",
       "<table border=\"1\" class=\"dataframe\">\n",
       "  <thead>\n",
       "    <tr style=\"text-align: right;\">\n",
       "      <th></th>\n",
       "      <th>longitude</th>\n",
       "      <th>latitude</th>\n",
       "      <th>housing_median_age</th>\n",
       "      <th>median_income</th>\n",
       "      <th>median_house_value</th>\n",
       "      <th>population_per_room</th>\n",
       "      <th>&lt;1H OCEAN</th>\n",
       "      <th>INLAND</th>\n",
       "      <th>NEAR BAY</th>\n",
       "      <th>NEAR OCEAN</th>\n",
       "      <th>distance_to_center_1</th>\n",
       "      <th>distance_to_center_2</th>\n",
       "      <th>rooms_per_house</th>\n",
       "      <th>bedrooms_as_percentage</th>\n",
       "      <th>income_to_house_age_ratio</th>\n",
       "    </tr>\n",
       "  </thead>\n",
       "  <tbody>\n",
       "    <tr>\n",
       "      <th>0</th>\n",
       "      <td>-1.330277</td>\n",
       "      <td>1.036473</td>\n",
       "      <td>1.025853</td>\n",
       "      <td>2.959952</td>\n",
       "      <td>452600.0</td>\n",
       "      <td>-0.522705</td>\n",
       "      <td>-0.881005</td>\n",
       "      <td>-0.704248</td>\n",
       "      <td>2.901549</td>\n",
       "      <td>-0.376027</td>\n",
       "      <td>-1.529109</td>\n",
       "      <td>1.150787</td>\n",
       "      <td>-0.019475</td>\n",
       "      <td>-0.742471</td>\n",
       "      <td>0.042035</td>\n",
       "    </tr>\n",
       "    <tr>\n",
       "      <th>1</th>\n",
       "      <td>-1.325291</td>\n",
       "      <td>1.027171</td>\n",
       "      <td>-0.603438</td>\n",
       "      <td>2.944799</td>\n",
       "      <td>358500.0</td>\n",
       "      <td>-0.580070</td>\n",
       "      <td>-0.881005</td>\n",
       "      <td>-0.704248</td>\n",
       "      <td>2.901549</td>\n",
       "      <td>-0.376027</td>\n",
       "      <td>-1.548054</td>\n",
       "      <td>1.143468</td>\n",
       "      <td>-0.049681</td>\n",
       "      <td>-0.652873</td>\n",
       "      <td>0.792660</td>\n",
       "    </tr>\n",
       "    <tr>\n",
       "      <th>2</th>\n",
       "      <td>-1.335263</td>\n",
       "      <td>1.022519</td>\n",
       "      <td>1.921963</td>\n",
       "      <td>2.280068</td>\n",
       "      <td>352100.0</td>\n",
       "      <td>-0.580302</td>\n",
       "      <td>-0.881005</td>\n",
       "      <td>-0.704248</td>\n",
       "      <td>2.901549</td>\n",
       "      <td>-0.376027</td>\n",
       "      <td>-1.556264</td>\n",
       "      <td>1.145778</td>\n",
       "      <td>0.033327</td>\n",
       "      <td>-0.908659</td>\n",
       "      <td>-0.205849</td>\n",
       "    </tr>\n",
       "    <tr>\n",
       "      <th>3</th>\n",
       "      <td>-1.340249</td>\n",
       "      <td>1.022519</td>\n",
       "      <td>1.921963</td>\n",
       "      <td>1.252220</td>\n",
       "      <td>341300.0</td>\n",
       "      <td>-0.373386</td>\n",
       "      <td>-0.881005</td>\n",
       "      <td>-0.704248</td>\n",
       "      <td>2.901549</td>\n",
       "      <td>-0.376027</td>\n",
       "      <td>-1.555264</td>\n",
       "      <td>1.148171</td>\n",
       "      <td>-0.066720</td>\n",
       "      <td>-0.373910</td>\n",
       "      <td>-0.327058</td>\n",
       "    </tr>\n",
       "    <tr>\n",
       "      <th>4</th>\n",
       "      <td>-1.340249</td>\n",
       "      <td>1.022519</td>\n",
       "      <td>1.921963</td>\n",
       "      <td>0.108107</td>\n",
       "      <td>342200.0</td>\n",
       "      <td>-0.561327</td>\n",
       "      <td>-0.881005</td>\n",
       "      <td>-0.704248</td>\n",
       "      <td>2.901549</td>\n",
       "      <td>-0.376027</td>\n",
       "      <td>-1.555264</td>\n",
       "      <td>1.148171</td>\n",
       "      <td>-0.047911</td>\n",
       "      <td>-0.494233</td>\n",
       "      <td>-0.461978</td>\n",
       "    </tr>\n",
       "  </tbody>\n",
       "</table>\n",
       "</div>"
      ],
      "text/plain": [
       "   longitude  latitude  housing_median_age  median_income  median_house_value  \\\n",
       "0  -1.330277  1.036473            1.025853       2.959952            452600.0   \n",
       "1  -1.325291  1.027171           -0.603438       2.944799            358500.0   \n",
       "2  -1.335263  1.022519            1.921963       2.280068            352100.0   \n",
       "3  -1.340249  1.022519            1.921963       1.252220            341300.0   \n",
       "4  -1.340249  1.022519            1.921963       0.108107            342200.0   \n",
       "\n",
       "   population_per_room  <1H OCEAN    INLAND  NEAR BAY  NEAR OCEAN  \\\n",
       "0            -0.522705  -0.881005 -0.704248  2.901549   -0.376027   \n",
       "1            -0.580070  -0.881005 -0.704248  2.901549   -0.376027   \n",
       "2            -0.580302  -0.881005 -0.704248  2.901549   -0.376027   \n",
       "3            -0.373386  -0.881005 -0.704248  2.901549   -0.376027   \n",
       "4            -0.561327  -0.881005 -0.704248  2.901549   -0.376027   \n",
       "\n",
       "   distance_to_center_1  distance_to_center_2  rooms_per_house  \\\n",
       "0             -1.529109              1.150787        -0.019475   \n",
       "1             -1.548054              1.143468        -0.049681   \n",
       "2             -1.556264              1.145778         0.033327   \n",
       "3             -1.555264              1.148171        -0.066720   \n",
       "4             -1.555264              1.148171        -0.047911   \n",
       "\n",
       "   bedrooms_as_percentage  income_to_house_age_ratio  \n",
       "0               -0.742471                   0.042035  \n",
       "1               -0.652873                   0.792660  \n",
       "2               -0.908659                  -0.205849  \n",
       "3               -0.373910                  -0.327058  \n",
       "4               -0.494233                  -0.461978  "
      ]
     },
     "execution_count": 931,
     "metadata": {},
     "output_type": "execute_result"
    }
   ],
   "source": [
    "df = pd.read_csv(TRAIN_DATASET_PATH, sep=',')\n",
    "df.head()"
   ]
  },
  {
   "cell_type": "code",
   "execution_count": 932,
   "id": "11c33038-1b0b-4473-ab3c-65147e3cdda4",
   "metadata": {},
   "outputs": [
    {
     "data": {
      "text/plain": [
       "['longitude',\n",
       " 'latitude',\n",
       " 'housing_median_age',\n",
       " 'median_income',\n",
       " 'population_per_room',\n",
       " '<1H OCEAN',\n",
       " 'INLAND',\n",
       " 'NEAR BAY',\n",
       " 'NEAR OCEAN',\n",
       " 'distance_to_center_1',\n",
       " 'distance_to_center_2',\n",
       " 'rooms_per_house',\n",
       " 'bedrooms_as_percentage',\n",
       " 'income_to_house_age_ratio']"
      ]
     },
     "execution_count": 932,
     "metadata": {},
     "output_type": "execute_result"
    }
   ],
   "source": [
    "feature_names = df.columns.tolist()\n",
    "feature_names.remove('median_house_value')\n",
    "\n",
    "target_name = 'median_house_value'\n",
    "feature_names"
   ]
  },
  {
   "cell_type": "code",
   "execution_count": 933,
   "id": "5a2dbe5f-02ab-4f7d-9829-44b01e802249",
   "metadata": {},
   "outputs": [],
   "source": [
    "X = df[feature_names]\n",
    "y = df[target_name]"
   ]
  },
  {
   "cell_type": "code",
   "execution_count": 934,
   "id": "f230d796-132d-4bc7-a9f7-8c802c82320b",
   "metadata": {},
   "outputs": [],
   "source": [
    "X_train, X_test, y_train, y_test = train_test_split(X, y, test_size=0.33, shuffle=True, random_state=21)"
   ]
  },
  {
   "cell_type": "code",
   "execution_count": 935,
   "id": "0b0aa465-d6f1-4cc1-a861-8d17dee17449",
   "metadata": {},
   "outputs": [],
   "source": [
    "# lr_model = LinearRegression()\n",
    "# lr_model.fit(X_train, y_train)\n",
    "\n",
    "# y_train_preds = lr_model.predict(X_train)\n",
    "# evaluate_preds(y_train, y_train_preds)"
   ]
  },
  {
   "cell_type": "code",
   "execution_count": 936,
   "id": "fbde403c-54c2-4a62-9b9e-063b81f99858",
   "metadata": {},
   "outputs": [],
   "source": [
    "# y_test_preds = lr_model.predict(X_test)\n",
    "# evaluate_preds(y_test, y_test_preds)"
   ]
  },
  {
   "cell_type": "code",
   "execution_count": 937,
   "id": "26dc27d9-c6d7-4562-8c20-db383fede1d0",
   "metadata": {},
   "outputs": [],
   "source": [
    "# rf_model = RandomForestRegressor(max_depth=7, n_estimators=400)\n",
    "# rf_model.fit(X_train, y_train)\n",
    "\n",
    "# y_train_preds = rf_model.predict(X_train)\n",
    "# evaluate_preds(y_train, y_train_preds)"
   ]
  },
  {
   "cell_type": "code",
   "execution_count": 938,
   "id": "7248675a-4cde-464f-82b9-5ce55664d994",
   "metadata": {},
   "outputs": [],
   "source": [
    "# y_test_preds = rf_model.predict(X_test)\n",
    "# evaluate_preds(y_test, y_test_preds)"
   ]
  },
  {
   "cell_type": "code",
   "execution_count": null,
   "id": "f893c2cb-fbb4-4adb-8431-b6be5a95c109",
   "metadata": {},
   "outputs": [],
   "source": [
    "gb_model = GradientBoostingRegressor(max_depth=7, n_estimators=400, random_state=21)\n",
    "gb_model.fit(X_train, y_train)\n",
    "\n",
    "y_train_preds = gb_model.predict(X_train)\n",
    "evaluate_preds(y_train, y_train_preds)"
   ]
  },
  {
   "cell_type": "code",
   "execution_count": null,
   "id": "d499b24d-5c35-4a79-b1ac-2cd7f69e6ffc",
   "metadata": {},
   "outputs": [],
   "source": [
    "y_test_preds = gb_model.predict(X_test)\n",
    "evaluate_preds(y_test, y_test_preds)"
   ]
  },
  {
   "cell_type": "code",
   "execution_count": null,
   "id": "bdb33b26-5c5b-4ae4-b20c-852a7fb389a7",
   "metadata": {},
   "outputs": [],
   "source": [
    "feature_importances = pd.DataFrame(zip(X_train.columns, gb_model.feature_importances_), \n",
    "                                   columns=['feature_name', 'importance'])\n",
    "feature_importances.sort_values(by='importance', ascending=False)"
   ]
  },
  {
   "cell_type": "code",
   "execution_count": null,
   "id": "e878aff6-b98b-47b4-bf6d-046c84eb8fd1",
   "metadata": {},
   "outputs": [],
   "source": [
    "# GradientBoostingRegressor даёт лучший результат так как R2 ближе к 1, а MAE и MSE меньше."
   ]
  },
  {
   "cell_type": "code",
   "execution_count": null,
   "id": "43832dab-e649-4b7e-8baa-e7872e3d7be8",
   "metadata": {},
   "outputs": [],
   "source": [
    "# По данным мы видим что делаем более точные предсказания по дешёвым домам, и есть существенно больший разброс по дорогим домам."
   ]
  }
 ],
 "metadata": {
  "kernelspec": {
   "display_name": "Python 3 (ipykernel)",
   "language": "python",
   "name": "python3"
  },
  "language_info": {
   "codemirror_mode": {
    "name": "ipython",
    "version": 3
   },
   "file_extension": ".py",
   "mimetype": "text/x-python",
   "name": "python",
   "nbconvert_exporter": "python",
   "pygments_lexer": "ipython3",
   "version": "3.9.1"
  }
 },
 "nbformat": 4,
 "nbformat_minor": 5
}
